{
 "cells": [
  {
   "cell_type": "code",
   "execution_count": 1,
   "metadata": {},
   "outputs": [],
   "source": [
    "from bs4 import BeautifulSoup\n",
    "import requests\n",
    "import pandas as pd\n",
    "import numpy as np"
   ]
  },
  {
   "cell_type": "code",
   "execution_count": 2,
   "metadata": {},
   "outputs": [],
   "source": [
    "def make_soup(url):\n",
    "    return BeautifulSoup(requests.get(url).text, 'html.parser')"
   ]
  },
  {
   "cell_type": "code",
   "execution_count": 3,
   "metadata": {},
   "outputs": [],
   "source": [
    "def scrapSubs(url):\n",
    "    soup = make_soup(url)\n",
    "    \n",
    "    items = soup.find_all('li',{'class':'s-item'})\n",
    "    item_details = []\n",
    "    \n",
    "    for item in items:\n",
    "        try:\n",
    "            \n",
    "            detail_sec = item.find('div',{'class': 's-item__info'})\n",
    "            item_url = detail_sec.find('a').get('href')\n",
    "            item_descr = detail_sec.find('h3',{'class':'s-item__title'}).text\n",
    "            price_descr = []\n",
    "#             print(detail_sec)\n",
    "            img_sec = item.find('div',{'class':'s-item__image'})\n",
    "            img_url = img_sec.find('a').get('href')\n",
    "#             print(img_url)\n",
    "            \n",
    "            for des_pair in item.find_all('div',{'class':'s-item__detail'}):\n",
    "                text = des_pair.find('span').text\n",
    "#                 print(text)\n",
    "                price_descr.append(text)\n",
    "#             print('\\n\\n')\n",
    "#             print(item_descr, img_url, item_url, price_descr)\n",
    "            item_details.append([item_descr, img_url, item_url, price_descr])\n",
    "        except AttributeError:\n",
    "            pass\n",
    "    return item_details"
   ]
  },
  {
   "cell_type": "code",
   "execution_count": 4,
   "metadata": {},
   "outputs": [],
   "source": [
    "def scrapCategory(category, url):\n",
    "    out = []\n",
    "    \n",
    "    soup = make_soup(url)\n",
    "    subCatBlock = soup.find('div',{'class':'b-visualnav__grid'})\n",
    "    subCategories = subCatBlock.find_all('a')\n",
    "    title = subCatBlock.find_all('div', {'class':'b-visualnav__title'})\n",
    "#     print( title)\n",
    "    \n",
    "    for i in range(len(subCategories)):\n",
    "        url_sub = subCategories[i].get('href')\n",
    "        title_sub = title[i].text\n",
    "        data_sub = scrapSubs(url_sub)\n",
    "        print(f'\\n{title_sub}\\n')\n",
    "        if(len(data_sub)>0):\n",
    "            df = pd.DataFrame(np.array(data_sub))\n",
    "            print(data_sub)\n",
    "            \n",
    "            df.to_csv(title_sub+'.csv')"
   ]
  },
  {
   "cell_type": "code",
   "execution_count": 5,
   "metadata": {},
   "outputs": [
    {
     "name": "stdout",
     "output_type": "stream",
     "text": [
      "\n",
      "Men's Clothing\n",
      "\n",
      "[['Wrangler Mens Jeans Five Star Regular Fit Many Sizes Many Colors New With Tags', 'https://www.ebay.com/p/1700185746?iid=290952319600&var=590145855763', 'https://www.ebay.com/p/1700185746?iid=290952319600&var=590145855763', ['$19.99 to $22.99', '$24.99 shipping', '432 sold']], ['PROCLUB PRO CLUB MENS PLAIN T SHIRT HEAVYWEIGHT SHIRTS SHORT SLEEVE TEE BIG TALL', 'https://www.ebay.com/itm/162367310291?hash=item25cdd889d3:g:XpEAAOSwo-5eERV2&var=461398361513', 'https://www.ebay.com/itm/162367310291?hash=item25cdd889d3:g:XpEAAOSwo-5eERV2&var=461398361513', ['$5.40 to $13.40', '$25.50 shipping']], [\"Reebok Men's Mesh Gym Shorts Two-toned Workout Performance Basketball Shorts\", 'https://www.ebay.com/itm/324432952924?hash=item4b89b5fe5c:g:5LMAAOSwCrpf58j-&var=513498508975', 'https://www.ebay.com/itm/324432952924?hash=item4b89b5fe5c:g:5LMAAOSwCrpf58j-&var=513498508975', ['$9.95', '$48.00 shipping', '165 sold']]]\n"
     ]
    },
    {
     "name": "stderr",
     "output_type": "stream",
     "text": [
      "/home/gray/anaconda3/lib/python3.7/site-packages/ipykernel_launcher.py:16: VisibleDeprecationWarning: Creating an ndarray from ragged nested sequences (which is a list-or-tuple of lists-or-tuples-or ndarrays with different lengths or shapes) is deprecated. If you meant to do this, you must specify 'dtype=object' when creating the ndarray\n",
      "  app.launch_new_instance()\n"
     ]
    },
    {
     "name": "stdout",
     "output_type": "stream",
     "text": [
      "\n",
      "Men's Shoes\n",
      "\n",
      "\n",
      "Men's Accessories\n",
      "\n",
      "[['TOSO Unisex Twill Hat', 'https://www.ebay.com/itm/393287747343?hash=item5b91c6c70f:g:n~sAAOSw91Bgjg5S&var=662188066698', 'https://www.ebay.com/itm/393287747343?hash=item5b91c6c70f:g:n~sAAOSw91Bgjg5S&var=662188066698', ['$19.39', '$8.00 shipping']]]\n",
      "\n",
      "Watches, Parts & Accessories\n",
      "\n",
      "\n",
      "Kids' Clothing, Shoes & Accessories\n",
      "\n",
      "[['New  toddler girls black purple pink unicorn ice bar flower clogs slippers shoes', 'https://www.ebay.com/itm/393287733260?hash=item5b91c6900c:g:TXoAAOSwXSJgjgo-&var=662188056172', 'https://www.ebay.com/itm/393287733260?hash=item5b91c6900c:g:TXoAAOSwXSJgjgo-&var=662188056172', ['$11.99', '$23.00 shipping']], ['Vans Old Skool', 'https://www.ebay.com/itm/203428308291?hash=item2f5d45a543:g:SbUAAOSw-tlgjgTU&var=503772253665', 'https://www.ebay.com/itm/203428308291?hash=item2f5d45a543:g:SbUAAOSw-tlgjgTU&var=503772253665', ['$49.90', '$60.00 shipping']], ['Reebok Zig Kinetica Girls Shoes', 'https://www.ebay.com/itm/133747940519?hash=item1f23ff9ca7:g:KP0AAOSwqMlgjgTV&var=433192483848', 'https://www.ebay.com/itm/133747940519?hash=item1f23ff9ca7:g:KP0AAOSwqMlgjgTV&var=433192483848', ['$79.90', '$60.00 shipping']], ['New youth boys girls blue red black pink color pvc clogs slippers-size 13-5', 'https://www.ebay.com/itm/373564015116?hash=item56fa26820c:g:Mv8AAOSwofFgjgtR&var=642561156661', 'https://www.ebay.com/itm/373564015116?hash=item56fa26820c:g:Mv8AAOSwofFgjgtR&var=642561156661', ['$11.99', '$23.00 shipping']], ['Reebok Trideca 200 Boys Shoes', 'https://www.ebay.com/itm/203428308429?hash=item2f5d45a5cd:g:gnMAAOSwH5ZgjgTw&var=503772253799', 'https://www.ebay.com/itm/203428308429?hash=item2f5d45a5cd:g:gnMAAOSwH5ZgjgTw&var=503772253799', ['$69.90', '$60.00 shipping']]]\n",
      "\n",
      "Women's Clothing\n",
      "\n",
      "\n",
      "Women's Shoes\n",
      "\n",
      "\n",
      "Women's Accessories\n",
      "\n",
      "\n",
      "Women's Bags & Handbags\n",
      "\n",
      "\n",
      "Jewelry\n",
      "\n"
     ]
    }
   ],
   "source": [
    "scrapCategory(\"Clothes\", \"https://www.ebay.com/b/Fashion/bn_7000259856\")"
   ]
  }
 ],
 "metadata": {
  "kernelspec": {
   "display_name": "Python 3",
   "language": "python",
   "name": "python3"
  },
  "language_info": {
   "codemirror_mode": {
    "name": "ipython",
    "version": 3
   },
   "file_extension": ".py",
   "mimetype": "text/x-python",
   "name": "python",
   "nbconvert_exporter": "python",
   "pygments_lexer": "ipython3",
   "version": "3.7.6"
  }
 },
 "nbformat": 4,
 "nbformat_minor": 4
}
